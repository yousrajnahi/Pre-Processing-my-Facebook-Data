{
 "cells": [
  {
   "cell_type": "markdown",
   "metadata": {},
   "source": [
    "# Import libraries"
   ]
  },
  {
   "cell_type": "code",
   "execution_count": 1,
   "metadata": {},
   "outputs": [],
   "source": [
    "import pandas as pd\n",
    "%matplotlib inline\n",
    "import matplotlib.pyplot as plt\n",
    "import seaborn as sns\n",
    "import numpy as np"
   ]
  },
  {
   "cell_type": "markdown",
   "metadata": {},
   "source": [
    "# Read the json file into a DataFrame"
   ]
  },
  {
   "cell_type": "code",
   "execution_count": 2,
   "metadata": {},
   "outputs": [
    {
     "data": {
      "text/html": [
       "<div>\n",
       "<style scoped>\n",
       "    .dataframe tbody tr th:only-of-type {\n",
       "        vertical-align: middle;\n",
       "    }\n",
       "\n",
       "    .dataframe tbody tr th {\n",
       "        vertical-align: top;\n",
       "    }\n",
       "\n",
       "    .dataframe thead th {\n",
       "        text-align: right;\n",
       "    }\n",
       "</style>\n",
       "<table border=\"1\" class=\"dataframe\">\n",
       "  <thead>\n",
       "    <tr style=\"text-align: right;\">\n",
       "      <th></th>\n",
       "      <th>timestamp</th>\n",
       "      <th>data</th>\n",
       "      <th>title</th>\n",
       "      <th>tags</th>\n",
       "      <th>attachments</th>\n",
       "    </tr>\n",
       "  </thead>\n",
       "  <tbody>\n",
       "    <tr>\n",
       "      <th>0</th>\n",
       "      <td>2013-09-20 17:40:21</td>\n",
       "      <td>[{'post': 'Ù",
       "ÙØ¤ÙÙÙ",
       " ÙÙØºÙØ§ÙÙØ© :\n",
       "\n",
       ".\n",
       "...</td>\n",
       "      <td>YoÃ¹ SrÃ  a mis Ã  jour son statut.</td>\n",
       "      <td>NaN</td>\n",
       "      <td>NaN</td>\n",
       "    </tr>\n",
       "    <tr>\n",
       "      <th>1</th>\n",
       "      <td>2013-10-05 18:05:48</td>\n",
       "      <td>[{'post': 'ÙØ°Ù Ø´Ø®ØµÙØªÙ Ø¥Ø°Ø¢ ÙÙÙ",
       " Ø...</td>\n",
       "      <td>YoÃ¹ SrÃ  a mis Ã  jour son statut.</td>\n",
       "      <td>NaN</td>\n",
       "      <td>NaN</td>\n",
       "    </tr>\n",
       "    <tr>\n",
       "      <th>2</th>\n",
       "      <td>2013-10-12 15:37:13</td>\n",
       "      <td>[{'post': 'Ø¬ÙÙÙÙÙÙÙÙÙÙÙØª ÙÙÙÙ...</td>\n",
       "      <td>YoÃ¹ SrÃ  Ã©tait avec HÃ¢ JÃ r et 10 autres pe...</td>\n",
       "      <td>[{'name': 'HÃ¢ JÃ r'}, {'name': 'YouSsef HouSs...</td>\n",
       "      <td>NaN</td>\n",
       "    </tr>\n",
       "    <tr>\n",
       "      <th>3</th>\n",
       "      <td>2013-10-14 05:57:09</td>\n",
       "      <td>[{'post': 'Ãªtre seule c ' est difficile :'('}]</td>\n",
       "      <td>YoÃ¹ SrÃ  a une nouvelle photo.</td>\n",
       "      <td>[{'name': 'HÃ¢ JÃ r'}, {'name': 'Abdsamad Er-r...</td>\n",
       "      <td>[{'data': [{'media': {'uri': 'posts/media/Phot...</td>\n",
       "    </tr>\n",
       "    <tr>\n",
       "      <th>4</th>\n",
       "      <td>2013-10-15 07:56:36</td>\n",
       "      <td>[{'post': 'ÙÙÙÙÙÙÙÙÙÙÙ'}]</td>\n",
       "      <td>YoÃ¹ SrÃ  a une nouvelle photo.</td>\n",
       "      <td>[{'name': 'YouSsef HouSsi'}, {'name': 'Abdelil...</td>\n",
       "      <td>[{'data': [{'media': {'uri': 'posts/media/Phot...</td>\n",
       "    </tr>\n",
       "    <tr>\n",
       "      <th>...</th>\n",
       "      <td>...</td>\n",
       "      <td>...</td>\n",
       "      <td>...</td>\n",
       "      <td>...</td>\n",
       "      <td>...</td>\n",
       "    </tr>\n",
       "    <tr>\n",
       "      <th>3960</th>\n",
       "      <td>2021-11-10 21:39:05</td>\n",
       "      <td>[{'post': 'Happy birthday ððððâ¤ï...</td>\n",
       "      <td>YoÃ¹ SrÃ  a Ã©crit sur le journal de Salma Lou...</td>\n",
       "      <td>NaN</td>\n",
       "      <td>NaN</td>\n",
       "    </tr>\n",
       "    <tr>\n",
       "      <th>3961</th>\n",
       "      <td>2021-11-15 23:41:34</td>\n",
       "      <td>[{'post': 'Happy birthday ððððð...</td>\n",
       "      <td>YoÃ¹ SrÃ  a Ã©crit sur le journal de Hasnaa Lk...</td>\n",
       "      <td>NaN</td>\n",
       "      <td>NaN</td>\n",
       "    </tr>\n",
       "    <tr>\n",
       "      <th>3962</th>\n",
       "      <td>2021-11-23 10:50:00</td>\n",
       "      <td>[{'post': 'Happy birthday lmeeraa tania ðð...</td>\n",
       "      <td>YoÃ¹ SrÃ  a ajoutÃ© une photo et 4 vidÃ©os au ...</td>\n",
       "      <td>NaN</td>\n",
       "      <td>[{'data': [{'media': {'uri': 'posts/media/your...</td>\n",
       "    </tr>\n",
       "    <tr>\n",
       "      <th>3963</th>\n",
       "      <td>2021-12-01 14:11:03</td>\n",
       "      <td>[{'post': 'Happy birthday ððððð...</td>\n",
       "      <td>YoÃ¹ SrÃ  a Ã©crit sur le journal de Hamza Elm...</td>\n",
       "      <td>NaN</td>\n",
       "      <td>NaN</td>\n",
       "    </tr>\n",
       "    <tr>\n",
       "      <th>3964</th>\n",
       "      <td>2021-12-14 12:13:27</td>\n",
       "      <td>[{'post': 'Happy birthday ðððð'}]</td>\n",
       "      <td>YoÃ¹ SrÃ  a Ã©crit sur le journal de Chaimaa E...</td>\n",
       "      <td>NaN</td>\n",
       "      <td>NaN</td>\n",
       "    </tr>\n",
       "  </tbody>\n",
       "</table>\n",
       "<p>3965 rows × 5 columns</p>\n",
       "</div>"
      ],
      "text/plain": [
       "               timestamp                                               data  \\\n",
       "0    2013-09-20 17:40:21  [{'post': 'Ù\n",
       "ÙØ¤ÙÙÙ\n",
       " ÙÙØºÙØ§ÙÙØ© :\n",
       "\n",
       ".\n",
       "...   \n",
       "1    2013-10-05 18:05:48  [{'post': 'ÙØ°Ù Ø´Ø®ØµÙØªÙ Ø¥Ø°Ø¢ ÙÙÙ\n",
       " Ø...   \n",
       "2    2013-10-12 15:37:13  [{'post': 'Ø¬ÙÙÙÙÙÙÙÙÙÙÙØª ÙÙÙÙ...   \n",
       "3    2013-10-14 05:57:09    [{'post': 'Ãªtre seule c ' est difficile :'('}]   \n",
       "4    2013-10-15 07:56:36               [{'post': 'ÙÙÙÙÙÙÙÙÙÙÙ'}]   \n",
       "...                  ...                                                ...   \n",
       "3960 2021-11-10 21:39:05  [{'post': 'Happy birthday ððððâ¤ï...   \n",
       "3961 2021-11-15 23:41:34  [{'post': 'Happy birthday ððððð...   \n",
       "3962 2021-11-23 10:50:00  [{'post': 'Happy birthday lmeeraa tania ðð...   \n",
       "3963 2021-12-01 14:11:03  [{'post': 'Happy birthday ððððð...   \n",
       "3964 2021-12-14 12:13:27      [{'post': 'Happy birthday ðððð'}]   \n",
       "\n",
       "                                                  title  \\\n",
       "0                   YoÃ¹ SrÃ  a mis Ã  jour son statut.   \n",
       "1                   YoÃ¹ SrÃ  a mis Ã  jour son statut.   \n",
       "2     YoÃ¹ SrÃ  Ã©tait avec HÃ¢ JÃ r et 10 autres pe...   \n",
       "3                       YoÃ¹ SrÃ  a une nouvelle photo.   \n",
       "4                       YoÃ¹ SrÃ  a une nouvelle photo.   \n",
       "...                                                 ...   \n",
       "3960  YoÃ¹ SrÃ  a Ã©crit sur le journal de Salma Lou...   \n",
       "3961  YoÃ¹ SrÃ  a Ã©crit sur le journal de Hasnaa Lk...   \n",
       "3962  YoÃ¹ SrÃ  a ajoutÃ© une photo et 4 vidÃ©os au ...   \n",
       "3963  YoÃ¹ SrÃ  a Ã©crit sur le journal de Hamza Elm...   \n",
       "3964  YoÃ¹ SrÃ  a Ã©crit sur le journal de Chaimaa E...   \n",
       "\n",
       "                                                   tags  \\\n",
       "0                                                   NaN   \n",
       "1                                                   NaN   \n",
       "2     [{'name': 'HÃ¢ JÃ r'}, {'name': 'YouSsef HouSs...   \n",
       "3     [{'name': 'HÃ¢ JÃ r'}, {'name': 'Abdsamad Er-r...   \n",
       "4     [{'name': 'YouSsef HouSsi'}, {'name': 'Abdelil...   \n",
       "...                                                 ...   \n",
       "3960                                                NaN   \n",
       "3961                                                NaN   \n",
       "3962                                                NaN   \n",
       "3963                                                NaN   \n",
       "3964                                                NaN   \n",
       "\n",
       "                                            attachments  \n",
       "0                                                   NaN  \n",
       "1                                                   NaN  \n",
       "2                                                   NaN  \n",
       "3     [{'data': [{'media': {'uri': 'posts/media/Phot...  \n",
       "4     [{'data': [{'media': {'uri': 'posts/media/Phot...  \n",
       "...                                                 ...  \n",
       "3960                                                NaN  \n",
       "3961                                                NaN  \n",
       "3962  [{'data': [{'media': {'uri': 'posts/media/your...  \n",
       "3963                                                NaN  \n",
       "3964                                                NaN  \n",
       "\n",
       "[3965 rows x 5 columns]"
      ]
     },
     "execution_count": 2,
     "metadata": {},
     "output_type": "execute_result"
    }
   ],
   "source": [
    "df = pd.read_json('posts\\your_posts_1.json')\n",
    "df"
   ]
  },
  {
   "cell_type": "markdown",
   "metadata": {},
   "source": [
    "# Pre-processing the DataFrame"
   ]
  },
  {
   "cell_type": "code",
   "execution_count": 3,
   "metadata": {
    "scrolled": false
   },
   "outputs": [
    {
     "data": {
      "text/html": [
       "<div>\n",
       "<style scoped>\n",
       "    .dataframe tbody tr th:only-of-type {\n",
       "        vertical-align: middle;\n",
       "    }\n",
       "\n",
       "    .dataframe tbody tr th {\n",
       "        vertical-align: top;\n",
       "    }\n",
       "\n",
       "    .dataframe thead th {\n",
       "        text-align: right;\n",
       "    }\n",
       "</style>\n",
       "<table border=\"1\" class=\"dataframe\">\n",
       "  <thead>\n",
       "    <tr style=\"text-align: right;\">\n",
       "      <th></th>\n",
       "      <th>date</th>\n",
       "      <th>data</th>\n",
       "    </tr>\n",
       "  </thead>\n",
       "  <tbody>\n",
       "    <tr>\n",
       "      <th>0</th>\n",
       "      <td>2013-09-20 17:40:21</td>\n",
       "      <td>[{'post': 'Ù",
       "ÙØ¤ÙÙÙ",
       " ÙÙØºÙØ§ÙÙØ© :\n",
       "\n",
       ".\n",
       "...</td>\n",
       "    </tr>\n",
       "    <tr>\n",
       "      <th>1</th>\n",
       "      <td>2013-10-05 18:05:48</td>\n",
       "      <td>[{'post': 'ÙØ°Ù Ø´Ø®ØµÙØªÙ Ø¥Ø°Ø¢ ÙÙÙ",
       " Ø...</td>\n",
       "    </tr>\n",
       "    <tr>\n",
       "      <th>2</th>\n",
       "      <td>2013-10-12 15:37:13</td>\n",
       "      <td>[{'post': 'Ø¬ÙÙÙÙÙÙÙÙÙÙÙØª ÙÙÙÙ...</td>\n",
       "    </tr>\n",
       "    <tr>\n",
       "      <th>3</th>\n",
       "      <td>2013-10-14 05:57:09</td>\n",
       "      <td>[{'post': 'Ãªtre seule c ' est difficile :'('}]</td>\n",
       "    </tr>\n",
       "    <tr>\n",
       "      <th>4</th>\n",
       "      <td>2013-10-15 07:56:36</td>\n",
       "      <td>[{'post': 'ÙÙÙÙÙÙÙÙÙÙÙ'}]</td>\n",
       "    </tr>\n",
       "    <tr>\n",
       "      <th>...</th>\n",
       "      <td>...</td>\n",
       "      <td>...</td>\n",
       "    </tr>\n",
       "    <tr>\n",
       "      <th>3960</th>\n",
       "      <td>2021-11-10 21:39:05</td>\n",
       "      <td>[{'post': 'Happy birthday ððððâ¤ï...</td>\n",
       "    </tr>\n",
       "    <tr>\n",
       "      <th>3961</th>\n",
       "      <td>2021-11-15 23:41:34</td>\n",
       "      <td>[{'post': 'Happy birthday ððððð...</td>\n",
       "    </tr>\n",
       "    <tr>\n",
       "      <th>3962</th>\n",
       "      <td>2021-11-23 10:50:00</td>\n",
       "      <td>[{'post': 'Happy birthday lmeeraa tania ðð...</td>\n",
       "    </tr>\n",
       "    <tr>\n",
       "      <th>3963</th>\n",
       "      <td>2021-12-01 14:11:03</td>\n",
       "      <td>[{'post': 'Happy birthday ððððð...</td>\n",
       "    </tr>\n",
       "    <tr>\n",
       "      <th>3964</th>\n",
       "      <td>2021-12-14 12:13:27</td>\n",
       "      <td>[{'post': 'Happy birthday ðððð'}]</td>\n",
       "    </tr>\n",
       "  </tbody>\n",
       "</table>\n",
       "<p>3965 rows × 2 columns</p>\n",
       "</div>"
      ],
      "text/plain": [
       "                    date                                               data\n",
       "0    2013-09-20 17:40:21  [{'post': 'Ù\n",
       "ÙØ¤ÙÙÙ\n",
       " ÙÙØºÙØ§ÙÙØ© :\n",
       "\n",
       ".\n",
       "...\n",
       "1    2013-10-05 18:05:48  [{'post': 'ÙØ°Ù Ø´Ø®ØµÙØªÙ Ø¥Ø°Ø¢ ÙÙÙ\n",
       " Ø...\n",
       "2    2013-10-12 15:37:13  [{'post': 'Ø¬ÙÙÙÙÙÙÙÙÙÙÙØª ÙÙÙÙ...\n",
       "3    2013-10-14 05:57:09    [{'post': 'Ãªtre seule c ' est difficile :'('}]\n",
       "4    2013-10-15 07:56:36               [{'post': 'ÙÙÙÙÙÙÙÙÙÙÙ'}]\n",
       "...                  ...                                                ...\n",
       "3960 2021-11-10 21:39:05  [{'post': 'Happy birthday ððððâ¤ï...\n",
       "3961 2021-11-15 23:41:34  [{'post': 'Happy birthday ððððð...\n",
       "3962 2021-11-23 10:50:00  [{'post': 'Happy birthday lmeeraa tania ðð...\n",
       "3963 2021-12-01 14:11:03  [{'post': 'Happy birthday ððððð...\n",
       "3964 2021-12-14 12:13:27      [{'post': 'Happy birthday ðððð'}]\n",
       "\n",
       "[3965 rows x 2 columns]"
      ]
     },
     "execution_count": 3,
     "metadata": {},
     "output_type": "execute_result"
    }
   ],
   "source": [
    "# rename the timestamp column\n",
    "df.rename(columns={'timestamp': 'date'}, inplace=True)\n",
    "#drop some unnecessary columns\n",
    "df = df.drop(['attachments', 'title', 'tags'], axis=1)\n",
    "# making sure it's datetime format\n",
    "pd.to_datetime(df['date'])\n",
    "df"
   ]
  },
  {
   "cell_type": "markdown",
   "metadata": {},
   "source": [
    "# Count the number of posts each month"
   ]
  },
  {
   "cell_type": "code",
   "execution_count": 4,
   "metadata": {},
   "outputs": [
    {
     "data": {
      "text/plain": [
       "date\n",
       "2013-09-01     1\n",
       "2013-10-01     9\n",
       "2013-11-01    12\n",
       "2013-12-01     9\n",
       "2014-01-01    10\n",
       "              ..\n",
       "2021-08-01     2\n",
       "2021-09-01     1\n",
       "2021-10-01     5\n",
       "2021-11-01     4\n",
       "2021-12-01     2\n",
       "Freq: MS, Name: data, Length: 100, dtype: int64"
      ]
     },
     "execution_count": 4,
     "metadata": {},
     "output_type": "execute_result"
    }
   ],
   "source": [
    "df= df.set_index('date')\n",
    "post_counts= df['data'].resample('MS').size()\n",
    "post_counts"
   ]
  },
  {
   "cell_type": "markdown",
   "metadata": {},
   "source": [
    "# Display results  "
   ]
  },
  {
   "cell_type": "code",
   "execution_count": 5,
   "metadata": {},
   "outputs": [
    {
     "name": "stderr",
     "output_type": "stream",
     "text": [
      "D:\\Users\\yousra\\anaconda3\\lib\\site-packages\\seaborn\\_decorators.py:36: FutureWarning: Pass the following variables as keyword args: x, y. From version 0.12, the only valid positional argument will be `data`, and passing other arguments without an explicit keyword will result in an error or misinterpretation.\n",
      "  warnings.warn(\n"
     ]
    },
    {
     "data": {
      "image/png": "[encoded data removed]",
      "text/plain": [
       "<Figure size 2880x1440 with 1 Axes>"
      ]
     },
     "metadata": {},
     "output_type": "display_data"
    }
   ],
   "source": [
    "# set figure size and font size\n",
    "sns.set(rc={'figure.figsize':(40,20)})\n",
    "sns.set(font_scale=3)\n",
    "\n",
    "# set x labels\n",
    "x_labels = post_counts.index\n",
    "\n",
    "#create bar plot\n",
    "sns.barplot(x_labels, post_counts, color=\"blue\")\n",
    "\n",
    "# only show x-axis labels for Jan 1 of every other year\n",
    "tick_positions = np.arange(10, len(x_labels), step=24)\n",
    "\n",
    "#reformat date to display year onlyplt.ylabel(\"post counts\")\n",
    "plt.xticks(tick_positions, x_labels[tick_positions].strftime(\"%Y\"))\n",
    "\n",
    "# display the plot\n",
    "plt.show()"
   ]
  },
  {
   "cell_type": "markdown",
   "metadata": {},
   "source": [
    "# Conclusion"
   ]
  },
  {
   "cell_type": "markdown",
   "metadata": {},
   "source": [
    "I was wery active on meta during 2016 and 2017"
   ]
  }
 ],
 "metadata": {
  "kernelspec": {
   "display_name": "Python 3",
   "language": "python",
   "name": "python3"
  },
  "language_info": {
   "codemirror_mode": {
    "name": "ipython",
    "version": 3
   },
   "file_extension": ".py",
   "mimetype": "text/x-python",
   "name": "python",
   "nbconvert_exporter": "python",
   "pygments_lexer": "ipython3",
   "version": "3.8.5"
  }
 },
 "nbformat": 4,
 "nbformat_minor": 4
}
