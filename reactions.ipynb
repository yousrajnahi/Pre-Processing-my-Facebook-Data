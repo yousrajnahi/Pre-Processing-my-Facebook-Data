{
 "cells": [
  {
   "cell_type": "markdown",
   "metadata": {},
   "source": [
    "# Import libraries"
   ]
  },
  {
   "cell_type": "code",
   "execution_count": 1,
   "metadata": {},
   "outputs": [],
   "source": [
    "import os\n",
    "import json\n",
    "import datetime\n",
    "import pandas as pd\n",
    "from collections import Counter\n",
    "from datetime import datetime\n",
    "%matplotlib inline\n",
    "import matplotlib.pyplot as plt\n",
    "import seaborn as sns\n",
    "import numpy as np"
   ]
  },
  {
   "cell_type": "markdown",
   "metadata": {},
   "source": [
    "# Load the reactions file"
   ]
  },
  {
   "cell_type": "code",
   "execution_count": 2,
   "metadata": {},
   "outputs": [],
   "source": [
    "file= \"comments_and_reactions\\posts_and_comments.json\"\n",
    "data = json.load(open(file, 'r')) "
   ]
  },
  {
   "cell_type": "markdown",
   "metadata": {},
   "source": [
    "# Extract reactions and years from comments file"
   ]
  },
  {
   "cell_type": "code",
   "execution_count": 3,
   "metadata": {},
   "outputs": [],
   "source": [
    "reactions=[]\n",
    "timestamp=[]\n",
    "for i in range(len(data[\"reactions_v2\"])):\n",
    "    if 'data' in data[\"reactions_v2\"][i]:\n",
    "        reactions.append(data[\"reactions_v2\"][i][\"data\"][0][\"reaction\"][\"reaction\"])\n",
    "        ts=datetime.fromtimestamp(data[\"reactions_v2\"][i][\"timestamp\"])\n",
    "        timestamp.append(ts.year)"
   ]
  },
  {
   "cell_type": "markdown",
   "metadata": {},
   "source": [
    "# Create the reactions DataFrame"
   ]
  },
  {
   "cell_type": "code",
   "execution_count": 4,
   "metadata": {},
   "outputs": [
    {
     "data": {
      "text/html": [
       "<div>\n",
       "<style scoped>\n",
       "    .dataframe tbody tr th:only-of-type {\n",
       "        vertical-align: middle;\n",
       "    }\n",
       "\n",
       "    .dataframe tbody tr th {\n",
       "        vertical-align: top;\n",
       "    }\n",
       "\n",
       "    .dataframe thead th {\n",
       "        text-align: right;\n",
       "    }\n",
       "</style>\n",
       "<table border=\"1\" class=\"dataframe\">\n",
       "  <thead>\n",
       "    <tr style=\"text-align: right;\">\n",
       "      <th></th>\n",
       "      <th>reactions_v2</th>\n",
       "      <th>years</th>\n",
       "    </tr>\n",
       "  </thead>\n",
       "  <tbody>\n",
       "    <tr>\n",
       "      <th>0</th>\n",
       "      <td>LIKE</td>\n",
       "      <td>2013</td>\n",
       "    </tr>\n",
       "    <tr>\n",
       "      <th>1</th>\n",
       "      <td>LIKE</td>\n",
       "      <td>2013</td>\n",
       "    </tr>\n",
       "    <tr>\n",
       "      <th>2</th>\n",
       "      <td>LIKE</td>\n",
       "      <td>2013</td>\n",
       "    </tr>\n",
       "    <tr>\n",
       "      <th>3</th>\n",
       "      <td>LIKE</td>\n",
       "      <td>2013</td>\n",
       "    </tr>\n",
       "    <tr>\n",
       "      <th>4</th>\n",
       "      <td>LIKE</td>\n",
       "      <td>2013</td>\n",
       "    </tr>\n",
       "    <tr>\n",
       "      <th>...</th>\n",
       "      <td>...</td>\n",
       "      <td>...</td>\n",
       "    </tr>\n",
       "    <tr>\n",
       "      <th>13576</th>\n",
       "      <td>LOVE</td>\n",
       "      <td>2022</td>\n",
       "    </tr>\n",
       "    <tr>\n",
       "      <th>13577</th>\n",
       "      <td>LOVE</td>\n",
       "      <td>2022</td>\n",
       "    </tr>\n",
       "    <tr>\n",
       "      <th>13578</th>\n",
       "      <td>LOVE</td>\n",
       "      <td>2022</td>\n",
       "    </tr>\n",
       "    <tr>\n",
       "      <th>13579</th>\n",
       "      <td>LOVE</td>\n",
       "      <td>2022</td>\n",
       "    </tr>\n",
       "    <tr>\n",
       "      <th>13580</th>\n",
       "      <td>LOVE</td>\n",
       "      <td>2022</td>\n",
       "    </tr>\n",
       "  </tbody>\n",
       "</table>\n",
       "<p>13581 rows × 2 columns</p>\n",
       "</div>"
      ],
      "text/plain": [
       "      reactions_v2  years\n",
       "0             LIKE   2013\n",
       "1             LIKE   2013\n",
       "2             LIKE   2013\n",
       "3             LIKE   2013\n",
       "4             LIKE   2013\n",
       "...            ...    ...\n",
       "13576         LOVE   2022\n",
       "13577         LOVE   2022\n",
       "13578         LOVE   2022\n",
       "13579         LOVE   2022\n",
       "13580         LOVE   2022\n",
       "\n",
       "[13581 rows x 2 columns]"
      ]
     },
     "execution_count": 4,
     "metadata": {},
     "output_type": "execute_result"
    }
   ],
   "source": [
    "df = pd.DataFrame(reactions,columns =['reactions_v2'])\n",
    "df['years']=timestamp\n",
    "df"
   ]
  },
  {
   "cell_type": "markdown",
   "metadata": {},
   "source": [
    "# Display reactions frequency"
   ]
  },
  {
   "cell_type": "code",
   "execution_count": 5,
   "metadata": {},
   "outputs": [
    {
     "data": {
      "text/html": [
       "<style type=\"text/css\">\n",
       "#T_528f1_row0_col1 {\n",
       "  background-color: #014636;\n",
       "  color: #f1f1f1;\n",
       "}\n",
       "#T_528f1_row1_col1 {\n",
       "  background-color: #d1d1e6;\n",
       "  color: #000000;\n",
       "}\n",
       "#T_528f1_row2_col1 {\n",
       "  background-color: #d8d6e9;\n",
       "  color: #000000;\n",
       "}\n",
       "#T_528f1_row3_col1 {\n",
       "  background-color: #fbf2f9;\n",
       "  color: #000000;\n",
       "}\n",
       "#T_528f1_row4_col1, #T_528f1_row5_col1 {\n",
       "  background-color: #fff7fb;\n",
       "  color: #000000;\n",
       "}\n",
       "</style>\n",
       "<table id=\"T_528f1\">\n",
       "  <thead>\n",
       "    <tr>\n",
       "      <th class=\"blank level0\" >&nbsp;</th>\n",
       "      <th id=\"T_528f1_level0_col0\" class=\"col_heading level0 col0\" >frequently_used_reactions</th>\n",
       "      <th id=\"T_528f1_level0_col1\" class=\"col_heading level0 col1\" >count</th>\n",
       "    </tr>\n",
       "  </thead>\n",
       "  <tbody>\n",
       "    <tr>\n",
       "      <th id=\"T_528f1_level0_row0\" class=\"row_heading level0 row0\" >0</th>\n",
       "      <td id=\"T_528f1_row0_col0\" class=\"data row0 col0\" >LIKE</td>\n",
       "      <td id=\"T_528f1_row0_col1\" class=\"data row0 col1\" >8924</td>\n",
       "    </tr>\n",
       "    <tr>\n",
       "      <th id=\"T_528f1_level0_row1\" class=\"row_heading level0 row1\" >1</th>\n",
       "      <td id=\"T_528f1_row1_col0\" class=\"data row1 col0\" >HAHA</td>\n",
       "      <td id=\"T_528f1_row1_col1\" class=\"data row1 col1\" >2244</td>\n",
       "    </tr>\n",
       "    <tr>\n",
       "      <th id=\"T_528f1_level0_row2\" class=\"row_heading level0 row2\" >2</th>\n",
       "      <td id=\"T_528f1_row2_col0\" class=\"data row2 col0\" >LOVE</td>\n",
       "      <td id=\"T_528f1_row2_col1\" class=\"data row2 col1\" >1974</td>\n",
       "    </tr>\n",
       "    <tr>\n",
       "      <th id=\"T_528f1_level0_row3\" class=\"row_heading level0 row3\" >3</th>\n",
       "      <td id=\"T_528f1_row3_col0\" class=\"data row3 col0\" >SORRY</td>\n",
       "      <td id=\"T_528f1_row3_col1\" class=\"data row3 col1\" >317</td>\n",
       "    </tr>\n",
       "    <tr>\n",
       "      <th id=\"T_528f1_level0_row4\" class=\"row_heading level0 row4\" >4</th>\n",
       "      <td id=\"T_528f1_row4_col0\" class=\"data row4 col0\" >ANGER</td>\n",
       "      <td id=\"T_528f1_row4_col1\" class=\"data row4 col1\" >72</td>\n",
       "    </tr>\n",
       "    <tr>\n",
       "      <th id=\"T_528f1_level0_row5\" class=\"row_heading level0 row5\" >5</th>\n",
       "      <td id=\"T_528f1_row5_col0\" class=\"data row5 col0\" >WOW</td>\n",
       "      <td id=\"T_528f1_row5_col1\" class=\"data row5 col1\" >49</td>\n",
       "    </tr>\n",
       "  </tbody>\n",
       "</table>\n"
      ],
      "text/plain": [
       "<pandas.io.formats.style.Styler at 0x1c281fe0be0>"
      ]
     },
     "execution_count": 5,
     "metadata": {},
     "output_type": "execute_result"
    }
   ],
   "source": [
    "reactions_collection = Counter(list(df.reactions_v2))\n",
    "freq_reactions_df = pd.DataFrame(reactions_collection.most_common(6))\n",
    "freq_reactions_df.columns = ['frequently_used_reactions','count']\n",
    "freq_reactions_df.style.background_gradient(cmap='PuBuGn', low=0, high=0, axis=0, subset=None)"
   ]
  },
  {
   "cell_type": "code",
   "execution_count": 6,
   "metadata": {},
   "outputs": [
    {
     "data": {
      "text/plain": [
       "<AxesSubplot:title={'center':'Frequently used reactions'}, xlabel='frequently_used_reactions'>"
      ]
     },
     "execution_count": 6,
     "metadata": {},
     "output_type": "execute_result"
    },
    {
     "data": {
      "image/png": "[encoded data removed]",
      "text/plain": [
       "<Figure size 432x288 with 1 Axes>"
      ]
     },
     "metadata": {
      "needs_background": "light"
     },
     "output_type": "display_data"
    }
   ],
   "source": [
    "freq_reactions_df.groupby('frequently_used_reactions').sum()['count'].sort_values(ascending=False).plot(\n",
    "    kind='bar',title='Frequently used reactions')"
   ]
  },
  {
   "cell_type": "markdown",
   "metadata": {},
   "source": [
    "# Conclusion"
   ]
  },
  {
   "cell_type": "markdown",
   "metadata": {},
   "source": [
    "The LIKE reaction is the most used because in 2016, when I was doing a lot of reactions, it was the only one that existed."
   ]
  },
  {
   "cell_type": "markdown",
   "metadata": {},
   "source": [
    "# Count the number of reactions each month "
   ]
  },
  {
   "cell_type": "code",
   "execution_count": 7,
   "metadata": {},
   "outputs": [],
   "source": [
    "date=[]\n",
    "dataa=[]\n",
    "for i in range(len(data[\"reactions_v2\"])):\n",
    "    if 'data' in data[\"reactions_v2\"][i]:\n",
    "        date.append(str(datetime.fromtimestamp(data[\"reactions_v2\"][i][\"timestamp\"])))\n",
    "        dataa.append(data[\"reactions_v2\"][i][\"data\"][0][\"reaction\"][\"reaction\"])"
   ]
  },
  {
   "cell_type": "code",
   "execution_count": 8,
   "metadata": {},
   "outputs": [
    {
     "data": {
      "text/html": [
       "<div>\n",
       "<style scoped>\n",
       "    .dataframe tbody tr th:only-of-type {\n",
       "        vertical-align: middle;\n",
       "    }\n",
       "\n",
       "    .dataframe tbody tr th {\n",
       "        vertical-align: top;\n",
       "    }\n",
       "\n",
       "    .dataframe thead th {\n",
       "        text-align: right;\n",
       "    }\n",
       "</style>\n",
       "<table border=\"1\" class=\"dataframe\">\n",
       "  <thead>\n",
       "    <tr style=\"text-align: right;\">\n",
       "      <th></th>\n",
       "      <th>date</th>\n",
       "      <th>reactions</th>\n",
       "    </tr>\n",
       "  </thead>\n",
       "  <tbody>\n",
       "    <tr>\n",
       "      <th>0</th>\n",
       "      <td>2013-09-15 15:34:50</td>\n",
       "      <td>LIKE</td>\n",
       "    </tr>\n",
       "    <tr>\n",
       "      <th>1</th>\n",
       "      <td>2013-09-15 15:35:07</td>\n",
       "      <td>LIKE</td>\n",
       "    </tr>\n",
       "    <tr>\n",
       "      <th>2</th>\n",
       "      <td>2013-09-20 13:31:14</td>\n",
       "      <td>LIKE</td>\n",
       "    </tr>\n",
       "    <tr>\n",
       "      <th>3</th>\n",
       "      <td>2013-09-20 13:31:15</td>\n",
       "      <td>LIKE</td>\n",
       "    </tr>\n",
       "    <tr>\n",
       "      <th>4</th>\n",
       "      <td>2013-09-20 13:31:18</td>\n",
       "      <td>LIKE</td>\n",
       "    </tr>\n",
       "    <tr>\n",
       "      <th>...</th>\n",
       "      <td>...</td>\n",
       "      <td>...</td>\n",
       "    </tr>\n",
       "    <tr>\n",
       "      <th>13576</th>\n",
       "      <td>2022-02-14 21:31:15</td>\n",
       "      <td>LOVE</td>\n",
       "    </tr>\n",
       "    <tr>\n",
       "      <th>13577</th>\n",
       "      <td>2022-02-15 14:09:30</td>\n",
       "      <td>LOVE</td>\n",
       "    </tr>\n",
       "    <tr>\n",
       "      <th>13578</th>\n",
       "      <td>2022-02-15 14:13:42</td>\n",
       "      <td>LOVE</td>\n",
       "    </tr>\n",
       "    <tr>\n",
       "      <th>13579</th>\n",
       "      <td>2022-02-15 14:36:09</td>\n",
       "      <td>LOVE</td>\n",
       "    </tr>\n",
       "    <tr>\n",
       "      <th>13580</th>\n",
       "      <td>2022-02-15 21:15:09</td>\n",
       "      <td>LOVE</td>\n",
       "    </tr>\n",
       "  </tbody>\n",
       "</table>\n",
       "<p>13581 rows × 2 columns</p>\n",
       "</div>"
      ],
      "text/plain": [
       "                      date reactions\n",
       "0      2013-09-15 15:34:50      LIKE\n",
       "1      2013-09-15 15:35:07      LIKE\n",
       "2      2013-09-20 13:31:14      LIKE\n",
       "3      2013-09-20 13:31:15      LIKE\n",
       "4      2013-09-20 13:31:18      LIKE\n",
       "...                    ...       ...\n",
       "13576  2022-02-14 21:31:15      LOVE\n",
       "13577  2022-02-15 14:09:30      LOVE\n",
       "13578  2022-02-15 14:13:42      LOVE\n",
       "13579  2022-02-15 14:36:09      LOVE\n",
       "13580  2022-02-15 21:15:09      LOVE\n",
       "\n",
       "[13581 rows x 2 columns]"
      ]
     },
     "execution_count": 8,
     "metadata": {},
     "output_type": "execute_result"
    }
   ],
   "source": [
    "dff = pd.DataFrame({'date': date, 'reactions': dataa} )\n",
    "dff"
   ]
  },
  {
   "cell_type": "code",
   "execution_count": 9,
   "metadata": {},
   "outputs": [],
   "source": [
    "dff.index = pd.to_datetime(dff['date'])"
   ]
  },
  {
   "cell_type": "code",
   "execution_count": 10,
   "metadata": {},
   "outputs": [
    {
     "data": {
      "text/plain": [
       "date\n",
       "2013-09-01     12\n",
       "2013-10-01    558\n",
       "2013-11-01    583\n",
       "2013-12-01    355\n",
       "2014-01-01    252\n",
       "             ... \n",
       "2021-10-01    547\n",
       "2021-11-01    291\n",
       "2021-12-01    163\n",
       "2022-01-01     86\n",
       "2022-02-01     54\n",
       "Freq: MS, Name: reactions, Length: 102, dtype: int64"
      ]
     },
     "execution_count": 10,
     "metadata": {},
     "output_type": "execute_result"
    }
   ],
   "source": [
    "reactions_counts= dff['reactions'].resample('MS').size()\n",
    "reactions_counts"
   ]
  },
  {
   "cell_type": "markdown",
   "metadata": {},
   "source": [
    "# Display results  "
   ]
  },
  {
   "cell_type": "code",
   "execution_count": 11,
   "metadata": {
    "scrolled": false
   },
   "outputs": [
    {
     "name": "stderr",
     "output_type": "stream",
     "text": [
      "D:\\Users\\yousra\\anaconda3\\lib\\site-packages\\seaborn\\_decorators.py:36: FutureWarning: Pass the following variables as keyword args: x, y. From version 0.12, the only valid positional argument will be `data`, and passing other arguments without an explicit keyword will result in an error or misinterpretation.\n",
      "  warnings.warn(\n"
     ]
    },
    {
     "data": {
      "image/png": "[encoded data removed]",
      "text/plain": [
       "<Figure size 2880x1440 with 1 Axes>"
      ]
     },
     "metadata": {},
     "output_type": "display_data"
    }
   ],
   "source": [
    "# set figure size and font size\n",
    "sns.set(rc={'figure.figsize':(40,20)})\n",
    "sns.set(font_scale=3)\n",
    "\n",
    "# set x labels\n",
    "x_labels = reactions_counts.index\n",
    "\n",
    "#create bar plot\n",
    "sns.barplot(x_labels, reactions_counts, color=\"blue\")\n",
    "\n",
    "# only show x-axis labels for Jan 1 of every other year\n",
    "tick_positions = np.arange(10, len(x_labels), step=24)\n",
    "\n",
    "#reformat date to display year onlyplt.ylabel(\"post counts\")\n",
    "plt.xticks(tick_positions, x_labels[tick_positions].strftime(\"%Y\"))\n",
    "\n",
    "# display the plot\n",
    "plt.show()"
   ]
  },
  {
   "cell_type": "markdown",
   "metadata": {},
   "source": [
    "# Conclusion"
   ]
  },
  {
   "cell_type": "markdown",
   "metadata": {},
   "source": [
    "The period from 2017 to 2019 I was not doing much reaction in the publications. But since 2020 the period of confinement I start to be very active as the years 2013 to 2016."
   ]
  }
 ],
 "metadata": {
  "kernelspec": {
   "display_name": "Python 3",
   "language": "python",
   "name": "python3"
  },
  "language_info": {
   "codemirror_mode": {
    "name": "ipython",
    "version": 3
   },
   "file_extension": ".py",
   "mimetype": "text/x-python",
   "name": "python",
   "nbconvert_exporter": "python",
   "pygments_lexer": "ipython3",
   "version": "3.8.5"
  }
 },
 "nbformat": 4,
 "nbformat_minor": 4
}
